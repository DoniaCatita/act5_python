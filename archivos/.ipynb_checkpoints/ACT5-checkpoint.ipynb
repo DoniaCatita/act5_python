{
 "cells": [
  {
   "cell_type": "markdown",
   "id": "329a3fee-81c3-4e26-ad1f-bec1f312d355",
   "metadata": {},
   "source": [
    "## Sección 1"
   ]
  },
  {
   "cell_type": "markdown",
   "id": "23267eee-290e-451a-b34b-6b62cd230538",
   "metadata": {},
   "source": [
    "### Inciso a:"
   ]
  },
  {
   "cell_type": "code",
   "execution_count": 61,
   "id": "7bf1cde8-c16e-4e08-8b1c-9cfa6be52931",
   "metadata": {},
   "outputs": [],
   "source": [
    "# (a) Explicá qué hace la función miFiltro y mostrá la ejecución describiendo cuál es la salida del programa.\n",
    "import csv\n",
    "from pathlib import Path\n",
    "from collections import Counter\n",
    "from datetime import datetime\n",
    "def enRango(data):\n",
    "    formato=\"%d/%m/%y, %H:%M:%S\"\n",
    "    h= datetime.strptime(data, formato)\n",
    "    return h.hour in range(0, 12)\n",
    "def miFiltro(csv_reader, cant):\n",
    "    users = filter(lambda x:  enRango(x[\"Hora\"]), csv_reader)\n",
    "    return Counter( map(lambda x: x['Nombre completo del usuario'], users)).most_common(cant)"
   ]
  },
  {
   "cell_type": "code",
   "execution_count": 63,
   "id": "19fea2ec-df24-45c7-96aa-f98a37d3e914",
   "metadata": {},
   "outputs": [
    {
     "ename": "UnicodeDecodeError",
     "evalue": "'charmap' codec can't decode byte 0x81 in position 3568: character maps to <undefined>",
     "output_type": "error",
     "traceback": [
      "\u001b[31m---------------------------------------------------------------------------\u001b[39m",
      "\u001b[31mUnicodeDecodeError\u001b[39m                        Traceback (most recent call last)",
      "\u001b[36mCell\u001b[39m\u001b[36m \u001b[39m\u001b[32mIn[63]\u001b[39m\u001b[32m, line 4\u001b[39m\n\u001b[32m      2\u001b[39m \u001b[38;5;28;01mwith\u001b[39;00m \u001b[38;5;28mopen\u001b[39m(file_route) \u001b[38;5;28;01mas\u001b[39;00m file:\n\u001b[32m      3\u001b[39m     csv_reader = csv.DictReader(file, delimiter=\u001b[33m'\u001b[39m\u001b[33m,\u001b[39m\u001b[33m'\u001b[39m)\n\u001b[32m----> \u001b[39m\u001b[32m4\u001b[39m     x= \u001b[43mmiFiltro\u001b[49m\u001b[43m(\u001b[49m\u001b[43mcsv_reader\u001b[49m\u001b[43m,\u001b[49m\u001b[43m \u001b[49m\u001b[32;43m5\u001b[39;49m\u001b[43m)\u001b[49m\n\u001b[32m      5\u001b[39m \u001b[38;5;28;01mfor\u001b[39;00m elem \u001b[38;5;129;01min\u001b[39;00m x:\n\u001b[32m      6\u001b[39m     \u001b[38;5;28mprint\u001b[39m(\u001b[33mf\u001b[39m\u001b[33m'\u001b[39m\u001b[33mUsuario: \u001b[39m\u001b[38;5;132;01m{\u001b[39;00melem[\u001b[32m0\u001b[39m]\u001b[38;5;132;01m}\u001b[39;00m\u001b[33m - Cantidad: \u001b[39m\u001b[38;5;132;01m{\u001b[39;00melem[\u001b[32m1\u001b[39m]\u001b[38;5;132;01m}\u001b[39;00m\u001b[33m'\u001b[39m)\n",
      "\u001b[36mCell\u001b[39m\u001b[36m \u001b[39m\u001b[32mIn[61]\u001b[39m\u001b[32m, line 13\u001b[39m, in \u001b[36mmiFiltro\u001b[39m\u001b[34m(csv_reader, cant)\u001b[39m\n\u001b[32m     11\u001b[39m \u001b[38;5;28;01mdef\u001b[39;00m\u001b[38;5;250m \u001b[39m\u001b[34mmiFiltro\u001b[39m(csv_reader, cant):\n\u001b[32m     12\u001b[39m     users = \u001b[38;5;28mfilter\u001b[39m(\u001b[38;5;28;01mlambda\u001b[39;00m x:  enRango(x[\u001b[33m\"\u001b[39m\u001b[33mHora\u001b[39m\u001b[33m\"\u001b[39m]), csv_reader)\n\u001b[32m---> \u001b[39m\u001b[32m13\u001b[39m     \u001b[38;5;28;01mreturn\u001b[39;00m \u001b[43mCounter\u001b[49m\u001b[43m(\u001b[49m\u001b[43m \u001b[49m\u001b[38;5;28;43mmap\u001b[39;49m\u001b[43m(\u001b[49m\u001b[38;5;28;43;01mlambda\u001b[39;49;00m\u001b[43m \u001b[49m\u001b[43mx\u001b[49m\u001b[43m:\u001b[49m\u001b[43m \u001b[49m\u001b[43mx\u001b[49m\u001b[43m[\u001b[49m\u001b[33;43m'\u001b[39;49m\u001b[33;43mNombre completo del usuario\u001b[39;49m\u001b[33;43m'\u001b[39;49m\u001b[43m]\u001b[49m\u001b[43m,\u001b[49m\u001b[43m \u001b[49m\u001b[43musers\u001b[49m\u001b[43m)\u001b[49m\u001b[43m)\u001b[49m.most_common(cant)\n",
      "\u001b[36mFile \u001b[39m\u001b[32m~\\AppData\\Local\\Programs\\Python\\Python312\\Lib\\collections\\__init__.py:607\u001b[39m, in \u001b[36mCounter.__init__\u001b[39m\u001b[34m(self, iterable, **kwds)\u001b[39m\n\u001b[32m    596\u001b[39m \u001b[38;5;250m\u001b[39m\u001b[33;03m'''Create a new, empty Counter object.  And if given, count elements\u001b[39;00m\n\u001b[32m    597\u001b[39m \u001b[33;03mfrom an input iterable.  Or, initialize the count from another mapping\u001b[39;00m\n\u001b[32m    598\u001b[39m \u001b[33;03mof elements to their counts.\u001b[39;00m\n\u001b[32m   (...)\u001b[39m\u001b[32m    604\u001b[39m \n\u001b[32m    605\u001b[39m \u001b[33;03m'''\u001b[39;00m\n\u001b[32m    606\u001b[39m \u001b[38;5;28msuper\u001b[39m().\u001b[34m__init__\u001b[39m()\n\u001b[32m--> \u001b[39m\u001b[32m607\u001b[39m \u001b[38;5;28;43mself\u001b[39;49m\u001b[43m.\u001b[49m\u001b[43mupdate\u001b[49m\u001b[43m(\u001b[49m\u001b[43miterable\u001b[49m\u001b[43m,\u001b[49m\u001b[43m \u001b[49m\u001b[43m*\u001b[49m\u001b[43m*\u001b[49m\u001b[43mkwds\u001b[49m\u001b[43m)\u001b[49m\n",
      "\u001b[36mFile \u001b[39m\u001b[32m~\\AppData\\Local\\Programs\\Python\\Python312\\Lib\\collections\\__init__.py:699\u001b[39m, in \u001b[36mCounter.update\u001b[39m\u001b[34m(self, iterable, **kwds)\u001b[39m\n\u001b[32m    697\u001b[39m             \u001b[38;5;28msuper\u001b[39m().update(iterable)\n\u001b[32m    698\u001b[39m     \u001b[38;5;28;01melse\u001b[39;00m:\n\u001b[32m--> \u001b[39m\u001b[32m699\u001b[39m         \u001b[43m_count_elements\u001b[49m\u001b[43m(\u001b[49m\u001b[38;5;28;43mself\u001b[39;49m\u001b[43m,\u001b[49m\u001b[43m \u001b[49m\u001b[43miterable\u001b[49m\u001b[43m)\u001b[49m\n\u001b[32m    700\u001b[39m \u001b[38;5;28;01mif\u001b[39;00m kwds:\n\u001b[32m    701\u001b[39m     \u001b[38;5;28mself\u001b[39m.update(kwds)\n",
      "\u001b[36mFile \u001b[39m\u001b[32m~\\AppData\\Local\\Programs\\Python\\Python312\\Lib\\csv.py:116\u001b[39m, in \u001b[36mDictReader.__next__\u001b[39m\u001b[34m(self)\u001b[39m\n\u001b[32m    113\u001b[39m \u001b[38;5;28;01mif\u001b[39;00m \u001b[38;5;28mself\u001b[39m.line_num == \u001b[32m0\u001b[39m:\n\u001b[32m    114\u001b[39m     \u001b[38;5;66;03m# Used only for its side effect.\u001b[39;00m\n\u001b[32m    115\u001b[39m     \u001b[38;5;28mself\u001b[39m.fieldnames\n\u001b[32m--> \u001b[39m\u001b[32m116\u001b[39m row = \u001b[38;5;28;43mnext\u001b[39;49m\u001b[43m(\u001b[49m\u001b[38;5;28;43mself\u001b[39;49m\u001b[43m.\u001b[49m\u001b[43mreader\u001b[49m\u001b[43m)\u001b[49m\n\u001b[32m    117\u001b[39m \u001b[38;5;28mself\u001b[39m.line_num = \u001b[38;5;28mself\u001b[39m.reader.line_num\n\u001b[32m    119\u001b[39m \u001b[38;5;66;03m# unlike the basic reader, we prefer not to return blanks,\u001b[39;00m\n\u001b[32m    120\u001b[39m \u001b[38;5;66;03m# because we will typically wind up with a dict full of None\u001b[39;00m\n\u001b[32m    121\u001b[39m \u001b[38;5;66;03m# values\u001b[39;00m\n",
      "\u001b[36mFile \u001b[39m\u001b[32m~\\AppData\\Local\\Programs\\Python\\Python312\\Lib\\encodings\\cp1252.py:23\u001b[39m, in \u001b[36mIncrementalDecoder.decode\u001b[39m\u001b[34m(self, input, final)\u001b[39m\n\u001b[32m     22\u001b[39m \u001b[38;5;28;01mdef\u001b[39;00m\u001b[38;5;250m \u001b[39m\u001b[34mdecode\u001b[39m(\u001b[38;5;28mself\u001b[39m, \u001b[38;5;28minput\u001b[39m, final=\u001b[38;5;28;01mFalse\u001b[39;00m):\n\u001b[32m---> \u001b[39m\u001b[32m23\u001b[39m     \u001b[38;5;28;01mreturn\u001b[39;00m \u001b[43mcodecs\u001b[49m\u001b[43m.\u001b[49m\u001b[43mcharmap_decode\u001b[49m\u001b[43m(\u001b[49m\u001b[38;5;28;43minput\u001b[39;49m\u001b[43m,\u001b[49m\u001b[38;5;28;43mself\u001b[39;49m\u001b[43m.\u001b[49m\u001b[43merrors\u001b[49m\u001b[43m,\u001b[49m\u001b[43mdecoding_table\u001b[49m\u001b[43m)\u001b[49m[\u001b[32m0\u001b[39m]\n",
      "\u001b[31mUnicodeDecodeError\u001b[39m: 'charmap' codec can't decode byte 0x81 in position 3568: character maps to <undefined>"
     ]
    }
   ],
   "source": [
    "file_route = Path('archivos') / 'logs_catedra.csv'\n",
    "with open(file_route) as file:\n",
    "    csv_reader = csv.DictReader(file, delimiter=',')\n",
    "    x= miFiltro(csv_reader, 5)\n",
    "for elem in x:\n",
    "    print(f'Usuario: {elem[0]} - Cantidad: {elem[1]}')"
   ]
  },
  {
   "cell_type": "markdown",
   "id": "b7fcb1de-322a-48d8-9365-094e156b7cd1",
   "metadata": {},
   "source": [
    "### Incisos b y c:"
   ]
  },
  {
   "cell_type": "code",
   "execution_count": 74,
   "id": "50cb1e98-660f-408c-914f-bce8767f25bb",
   "metadata": {},
   "outputs": [
    {
     "name": "stdout",
     "output_type": "stream",
     "text": [
      "Usuario: Bulbasaur - Cantidad: 974\n"
     ]
    }
   ],
   "source": [
    "#(b) Modificá la función miFiltro de manera tal que no sea necesario pasar como parámetro la cantidad de elementos a retornar. \n",
    "#Y, en caso que no se indique la cantidad,  se debe retornar solo el primer usuario que cumple la condición de filtro. Mostrá la ejecución del mismo\n",
    "\n",
    "# (c) Respondé: ¿cuántos parámetros recibe la función miFiltro modificada? ¿Cuántos son obligatorios y cuántos son opcionales?\n",
    "# un parámetro obligatorio (csv_reader) y un parámetro opcional (cant)\n",
    "def miFiltro(csv_reader, cant=None):\n",
    "    users = list(filter(lambda x:  enRango(x[\"Hora\"]), csv_reader))\n",
    "    primer_usuario = users[0]['Nombre completo del usuario']\n",
    "    apariciones = Counter( map(lambda x: x['Nombre completo del usuario'], users))\n",
    "    if(cant is None):\n",
    "        return [(primer_usuario,apariciones[primer_usuario])]  # retorno siempre lista de tuplas para no generar conflicto\n",
    "    else:\n",
    "        return apariciones.most_common(cant)\n",
    "    \n",
    "with open(file_route, encoding=\"utf-8\") as file:\n",
    "    csv_reader = csv.DictReader(file, delimiter=',')\n",
    "    x= miFiltro(csv_reader)\n",
    "for elem in x:\n",
    "    print(f'Usuario: {elem[0]} - Cantidad: {elem[1]}')\n"
   ]
  },
  {
   "cell_type": "markdown",
   "id": "09397686-f9ed-444c-9e6d-5269573b87c4",
   "metadata": {},
   "source": [
    "### Inciso d: "
   ]
  },
  {
   "cell_type": "code",
   "execution_count": 78,
   "id": "4b453ae5-5184-441f-b4ab-a5aa03139bdc",
   "metadata": {
    "scrolled": true
   },
   "outputs": [
    {
     "name": "stdout",
     "output_type": "stream",
     "text": [
      "Error: el formato del archivo es incorrecto\n"
     ]
    }
   ],
   "source": [
    "# d) Modificá el código de manera tal que el programa no corte su ejecución con un error en caso que el archivo tenga problemas de formato csv o no\n",
    "# exista. Mostrá la la ejecución del código modificado para visualizar que esta situación no sucede\n",
    "file_route = Path('archivos') / 'logs_catedra_corrompido.csv'\n",
    "try:\n",
    "    with open(file_route, encoding=\"utf-8\") as file:\n",
    "        csv_reader = csv.DictReader(file, delimiter=',')\n",
    "        x= miFiltro(csv_reader,5)\n",
    "except (UnicodeDecodeError, ValueError, KeyError):\n",
    "    print(f\"Error: el formato del archivo es incorrecto\")\n",
    "except FileNotFoundError:\n",
    "    print(f\"Error: el archivo no existe\")\n",
    "except Exception as e:\n",
    "    print(f\"Error inesperado ({e})\")\n",
    "else: \n",
    "    for elem in x:\n",
    "        print(f'Usuario: {elem[0]} - Cantidad: {elem[1]}')"
   ]
  },
  {
   "cell_type": "markdown",
   "id": "d5be8c49-3e83-43be-b5b4-2380c7c86694",
   "metadata": {},
   "source": [
    "### Inciso e:"
   ]
  },
  {
   "cell_type": "code",
   "execution_count": 60,
   "id": "ae561b52-708d-4856-b9bb-3984deb58340",
   "metadata": {},
   "outputs": [
    {
     "name": "stdout",
     "output_type": "stream",
     "text": [
      "<class 'list'>\n",
      "[('Machamp', 1865), ('Bulbasaur', 974), ('Snorlax', 619), ('Rapidash', 468), ('Blastoise', 427)]\n"
     ]
    }
   ],
   "source": [
    "# (e) Respondé: ¿cuál es el tipo de dato retornado por la función miFiltro? ¿Qué elementos contiene?\n",
    "\n",
    "def miFiltro(csv_reader, cant=1):\n",
    "    users = filter(lambda x:  enRango(x[\"Hora\"]), csv_reader)\n",
    "    return Counter( map(lambda x: x['Nombre completo del usuario'], users)).most_common(cant)\n",
    "\n",
    "print(type(x))\n",
    "print(x)  # x es una tupla de listas"
   ]
  },
  {
   "cell_type": "markdown",
   "id": "956225eb-49bc-4696-83e5-d30931dd90e4",
   "metadata": {},
   "source": [
    "## Sección 2:"
   ]
  },
  {
   "cell_type": "markdown",
   "id": "a75b1713-baf5-4a40-a577-ddd9b6dc1f64",
   "metadata": {},
   "source": [
    "### Interactúa con una IA con las siguientes consignas:\n",
    "### Verificá si la última versión del código modificado respeta la PEP 8. Mostrá los resultados que te brinda la IA e indicanos si estás de acuerdo con la respuesta dada y si es completa o no\n",
    "\n",
    "Pregunta:\n",
    "Hola, podrías decirme si el siguiente código de Python respeta la PEP 8?\n",
    "(Código modificado)\n",
    "\n",
    "Respuesta de la IA:\n",
    "\n",
    "¡Hola! El código que compartiste funciona, pero tiene algunos detalles que no cumplen completamente con la PEP 8, que es la guía oficial de estilo para código Python. A continuación, te señalo los puntos a mejorar:\n",
    "\n",
    "# ✅ Cosas que están bien:\n",
    "Separación clara entre imports (aunque hay un pequeño ajuste que se puede hacer).\n",
    "\n",
    "Uso correcto de with open(...).\n",
    "\n",
    "Nombres de variables en minúsculas con guiones bajos (snake_case) en su mayoría.\n",
    "\n",
    "# ❌ Cosas que deberías corregir según PEP 8:\n",
    "# 1. Orden y separación entre imports\n",
    "PEP 8 recomienda el siguiente orden:\n",
    "\n",
    "1. Imports estándar\n",
    "\n",
    "   from collections import Counter\n",
    "\n",
    "   from datetime import datetime\n",
    "\n",
    "   import csv\n",
    "\n",
    "3. Imports de terceros (no aplican aquí)\n",
    "\n",
    "4. Imports locales\n",
    "\n",
    "   from pathlib import Path\n",
    "\n",
    "Además, debe haber una línea en blanco entre grupos de imports distintos.\n",
    "\n",
    "# 2. Espaciado entre funciones\n",
    "Debe haber dos líneas en blanco entre funciones de nivel superior:\n",
    "\n",
    "# 3. Nombres de funciones\n",
    "Según PEP 8, los nombres de funciones deben estar en snake_case, no en camelCase:\n",
    "\n",
    "enRango → en_rango\n",
    "\n",
    "miFiltro → mi_filtro\n",
    "\n",
    "# 4. Espacios y formato dentro de funciones\n",
    "Dentro de en_rango:\n",
    "\n",
    "formato = \"%d/%m/%y, %H:%M:%S\"\n",
    "\n",
    "hora = datetime.strptime(data, formato)\n",
    "\n",
    "return hora.hour in range(0, 12)\n",
    "\n",
    "Dentro de mi_filtro:\n",
    "\n",
    "Espacio entre operadores y después de comas.\n",
    "\n",
    "Evitar el if(cant is None): → if cant is None:.\n",
    "\n",
    "# 5. Evitar una sola letra para variables\n",
    "Variables como h o x deben tener nombres más descriptivos. Por ejemplo:\n",
    "\n",
    "h → hora\n",
    "\n",
    "x → usuarios_filtrados (o similar)\n",
    "\n",
    "# 6. Comentarios\n",
    "Los comentarios deben tener espacio después del #, y estar redactados como oraciones completas si son explicativos:\n",
    "ej: # Retorno siempre una lista de tuplas para no generar conflicto\n",
    "\n",
    "\n",
    "# 🔧 Código corregido con PEP 8 aplicada:\n",
    "\n",
    "from collections import Counter \n",
    "\n",
    "from datetime import datetime\n",
    "\n",
    "import csv\n",
    "\n",
    "\n",
    "from pathlib import Path\n",
    "\n",
    "\n",
    "\n",
    "def en_rango(data):\n",
    "\n",
    "    formato = \"%d/%m/%y, %H:%M:%S\"\n",
    "    \n",
    "    hora = datetime.strptime(data, formato)\n",
    "    \n",
    "    return hora.hour in range(0, 12)\n",
    "\n",
    "\n",
    "\n",
    "def mi_filtro(csv_reader, cant=None):\n",
    "\n",
    "    usuarios = list(filter(lambda x: en_rango(x[\"Hora\"]), csv_reader))\n",
    "    \n",
    "    primer_usuario = usuarios[0]['Nombre completo del usuario']\n",
    "    \n",
    "    apariciones = Counter(map(lambda x: x['Nombre completo del usuario'], usuarios))\n",
    "\n",
    "    \n",
    "    if cant is None:\n",
    "    \n",
    "        # Retorno siempre una lista de tuplas para no generar conflicto\n",
    "        \n",
    "        return [(primer_usuario, apariciones[primer_usuario])]\n",
    "\n",
    "    else:\n",
    "    \n",
    "        return apariciones.most_common(cant)\n",
    "\n",
    "\n",
    "\n",
    "file_route = Path('archivos') / 'logs_catedra.csv'\n",
    "\n",
    "\n",
    "try:\n",
    "\n",
    "    with open(file_route, encoding=\"utf-8\") as file:\n",
    "    \n",
    "        csv_reader = csv.DictReader(file, delimiter=',')\n",
    "       \n",
    "        usuarios_filtrados = mi_filtro(csv_reader, 5)\n",
    "\n",
    "except (UnicodeDecodeError, ValueError, KeyError):\n",
    "\n",
    "    print(\"Error: el formato del archivo es incorrecto\")\n",
    "\n",
    "except FileNotFoundError:\n",
    "\n",
    "    print(\"Error: el archivo no existe\")\n",
    "\n",
    "except Exception as e:\n",
    "\n",
    "    print(f\"Error inesperado ({e})\")\n",
    "\n",
    "else:\n",
    "\n",
    "    for usuario, cantidad in usuarios_filtrados:\n",
    "    \n",
    "        print(f'Usuario: {usuario} - Cantidad: {cantidad}')\n",
    "\n",
    "\n"
   ]
  },
  {
   "cell_type": "raw",
   "id": "f6b58715-29cd-426c-a8c2-c29422315699",
   "metadata": {},
   "source": [
    "Opinión: A mí parecer la respuesta de la IA es bastante acertada y ayuda a corregir rápidamente detalles que son fáciles de pasar por alto, \n",
    "como el espaciado o las lineas en blanco. Además no modificó el código mucho más que para hacer esos pequeños cambios. Claramente esto no quita que siempre hay que revisar los cambios que propone y si efectivamente son útiles al programa y mantienen la coherencia y la legibilidad, más allá de que encajen en la PEP 8."
   ]
  },
  {
   "cell_type": "code",
   "execution_count": null,
   "id": "ebc5d46d-0f6b-4757-8c9d-74294a4666e5",
   "metadata": {},
   "outputs": [],
   "source": []
  },
  {
   "cell_type": "code",
   "execution_count": null,
   "id": "887e140a-be74-4c7c-ab46-811ea544b98d",
   "metadata": {},
   "outputs": [],
   "source": []
  }
 ],
 "metadata": {
  "kernelspec": {
   "display_name": "Python 3 (ipykernel)",
   "language": "python",
   "name": "python3"
  },
  "language_info": {
   "codemirror_mode": {
    "name": "ipython",
    "version": 3
   },
   "file_extension": ".py",
   "mimetype": "text/x-python",
   "name": "python",
   "nbconvert_exporter": "python",
   "pygments_lexer": "ipython3",
   "version": "3.12.9"
  }
 },
 "nbformat": 4,
 "nbformat_minor": 5
}
